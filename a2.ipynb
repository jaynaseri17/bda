{
 "cells": [
  {
   "cell_type": "markdown",
   "id": "1232b477-7c67-49cb-b499-a578a4c796ec",
   "metadata": {},
   "source": [
    "### **Problem Statement:**\n",
    "Develop a MapReduce program to calculate the frequency of a given word in a given file..\r"
   ]
  },
  {
   "cell_type": "markdown",
   "id": "dfdf75d2-0493-4ed7-af7d-4d5322f95172",
   "metadata": {},
   "source": [
    "#### **Mapper Function**"
   ]
  },
  {
   "cell_type": "code",
   "execution_count": 9,
   "id": "42a33b78-642a-4b68-9f96-157ea3fa1f08",
   "metadata": {},
   "outputs": [],
   "source": [
    "def mapper(text):\n",
    "    words = text.split()\n",
    "    for word in words:\n",
    "        yield word.lower(), 1  "
   ]
  },
  {
   "cell_type": "markdown",
   "id": "2dcdf74c-d90b-4db4-b677-4c868f72a815",
   "metadata": {},
   "source": [
    "#### **Shuffling and Sorting Function**"
   ]
  },
  {
   "cell_type": "code",
   "execution_count": 10,
   "id": "16a37625-acbd-4a26-ba3c-9ecd2f82d7c6",
   "metadata": {},
   "outputs": [],
   "source": [
    "def shuffle_and_sort(mapped_results):\n",
    "    shuffled_data = {}\n",
    "    for word, count in mapped_results:  # Iterate over (word, count) tuples\n",
    "        if word in shuffled_data:\n",
    "            shuffled_data[word].append(count)\n",
    "        else:\n",
    "            shuffled_data[word] = [count]\n",
    "    # Sort the keys alphabetically\n",
    "    sorted_data = sorted(shuffled_data.items())\n",
    "    return sorted_data"
   ]
  },
  {
   "cell_type": "markdown",
   "id": "e5db6f6d-4295-48e2-8f3d-98afb8907d6c",
   "metadata": {},
   "source": [
    "#### **Reducer function**"
   ]
  },
  {
   "cell_type": "code",
   "execution_count": 16,
   "id": "a619c7f0-f3de-41d8-8786-bd4194b43aca",
   "metadata": {},
   "outputs": [],
   "source": [
    "def reducer(shuffled_data):\n",
    "    final_count = {}\n",
    "    for word, counts in shuffled_data:\n",
    "        final_count[word] = sum(counts)\n",
    "    return final_count"
   ]
  },
  {
   "cell_type": "markdown",
   "id": "7ff61f63-c9cd-4cce-9704-c1433f7c5179",
   "metadata": {},
   "source": [
    "#### **Sample Text**"
   ]
  },
  {
   "cell_type": "code",
   "execution_count": 28,
   "id": "995963ea-2540-4a6d-ac38-2978f3cb3b18",
   "metadata": {},
   "outputs": [],
   "source": [
    "if __name__ == \"__main__\":\n",
    "    input_text = \"\"\"\n",
    "    Hello world\n",
    "    Hello sheeesh\n",
    "    MapReduce is powerful\n",
    "    Hello again\n",
    "    Bye Bye\n",
    "    \"\"\""
   ]
  },
  {
   "cell_type": "markdown",
   "id": "a266abf2-2f14-476a-86ce-f4008f5b7190",
   "metadata": {},
   "source": [
    "#### **Step 1: Split input into lines**"
   ]
  },
  {
   "cell_type": "code",
   "execution_count": 29,
   "id": "74c91595-cb21-4483-acb9-6e0e481fb586",
   "metadata": {},
   "outputs": [],
   "source": [
    "    lines = input_text.strip().split(\"\\n\")"
   ]
  },
  {
   "cell_type": "markdown",
   "id": "a6d26b9a-923d-428c-b402-af63d17193ef",
   "metadata": {},
   "source": [
    "#### **Step 2: Mapping Phase**"
   ]
  },
  {
   "cell_type": "code",
   "execution_count": 30,
   "id": "229f5744-b0e9-43fe-9c73-1de5682d2c05",
   "metadata": {},
   "outputs": [],
   "source": [
    "    mapped_results = []\n",
    "    for line in lines:\n",
    "        mapped_results.extend(mapper(line))"
   ]
  },
  {
   "cell_type": "markdown",
   "id": "46404ba8-0ca4-47ad-aa85-d12ec5e6ee5d",
   "metadata": {},
   "source": [
    "#### **Step 3: Shuffling and Sorting**"
   ]
  },
  {
   "cell_type": "code",
   "execution_count": 31,
   "id": "42155dc8-e6c7-4ba1-9a4a-88280b771576",
   "metadata": {},
   "outputs": [],
   "source": [
    "    shuffled_data = shuffle_and_sort(mapped_results)"
   ]
  },
  {
   "cell_type": "markdown",
   "id": "a0fd71b3-e49e-4359-932d-bfb3477dd935",
   "metadata": {},
   "source": [
    "#### **Step 3: Reduce Phase**"
   ]
  },
  {
   "cell_type": "code",
   "execution_count": 32,
   "id": "a589c6fe-599b-468f-ba87-ab9d65d8aa7c",
   "metadata": {},
   "outputs": [],
   "source": [
    "    final_word_count = reducer(shuffled_data)"
   ]
  },
  {
   "cell_type": "markdown",
   "id": "735908b8-5074-4d27-b046-23b6ce55fdcd",
   "metadata": {},
   "source": [
    "#### **Step 4: Output the result**"
   ]
  },
  {
   "cell_type": "code",
   "execution_count": 33,
   "id": "b627d449-c89a-4e6f-b09c-80384b8fd123",
   "metadata": {},
   "outputs": [
    {
     "name": "stdout",
     "output_type": "stream",
     "text": [
      "Word Frequency:\n",
      "again: 1\n",
      "bye: 2\n",
      "hello: 3\n",
      "is: 1\n",
      "mapreduce: 1\n",
      "powerful: 1\n",
      "sheeesh: 1\n",
      "world: 1\n"
     ]
    }
   ],
   "source": [
    "    print(\"Word Frequency:\")\n",
    "    for word, count in final_word_count.items():\n",
    "        print(f\"{word}: {count}\")"
   ]
  }
 ],
 "metadata": {
  "kernelspec": {
   "display_name": "Python 3 (ipykernel)",
   "language": "python",
   "name": "python3"
  },
  "language_info": {
   "codemirror_mode": {
    "name": "ipython",
    "version": 3
   },
   "file_extension": ".py",
   "mimetype": "text/x-python",
   "name": "python",
   "nbconvert_exporter": "python",
   "pygments_lexer": "ipython3",
   "version": "3.12.7"
  }
 },
 "nbformat": 4,
 "nbformat_minor": 5
}
