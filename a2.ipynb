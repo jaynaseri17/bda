{
 "cells": [
  {
   "cell_type": "code",
   "execution_count": 1,
   "id": "f82d56be-7406-4d23-9961-c53d532304f6",
   "metadata": {},
   "outputs": [
    {
     "name": "stdout",
     "output_type": "stream",
     "text": [
      "Word Frequency:\n",
      "again: 1\n",
      "bye: 2\n",
      "hello: 3\n",
      "is: 1\n",
      "mapreduce: 1\n",
      "powerful: 1\n",
      "sheeesh: 1\n",
      "world: 1\n"
     ]
    }
   ],
   "source": [
    "#Mapper Function\n",
    "def mapper(text):\n",
    "    words = text.split()\n",
    "    for word in words:\n",
    "        yield word.lower(), 1  \n",
    "        \n",
    "\n",
    "\n",
    "#Shuffling and Sorting Function\n",
    "def shuffle_and_sort(mapped_results):\n",
    "    shuffled_data = {}\n",
    "    for word, count in mapped_results:  # Iterate over (word, count) tuples\n",
    "        if word in shuffled_data:\n",
    "            shuffled_data[word].append(count)\n",
    "        else:\n",
    "            shuffled_data[word] = [count]\n",
    "    # Sort the keys alphabetically\n",
    "    sorted_data = sorted(shuffled_data.items())\n",
    "    return sorted_data\n",
    "    \n",
    "\n",
    "\n",
    "#Reducer function\n",
    "def reducer(shuffled_data):\n",
    "    final_count = {}\n",
    "    for word, counts in shuffled_data:\n",
    "        final_count[word] = sum(counts)\n",
    "    return final_count\n",
    "\n",
    "\n",
    "\n",
    "#Sample Text\n",
    "if __name__ == \"__main__\":\n",
    "    input_text = \"\"\"\n",
    "    Hello world\n",
    "    Hello sheeesh\n",
    "    MapReduce is powerful\n",
    "    Hello again\n",
    "    Bye Bye\n",
    "    \"\"\"\n",
    "\n",
    "\n",
    "\n",
    "#Step 1: Split input into lines\n",
    "lines = input_text.strip().split(\"\\n\")\n",
    "\n",
    "\n",
    "\n",
    "#Step 2: Mapping Phase\n",
    "mapped_results = []\n",
    "for line in lines:\n",
    "    mapped_results.extend(mapper(line))\n",
    "\n",
    "\n",
    "\n",
    "#Step 3: Shuffling and Sorting\n",
    "shuffled_data = shuffle_and_sort(mapped_results)\n",
    "\n",
    "\n",
    "\n",
    "#Step 4: Reduce Phase\n",
    "final_word_count = reducer(shuffled_data)\n",
    "\n",
    "\n",
    "\n",
    "#Step 5: Output the result\n",
    "print(\"Word Frequency:\")\n",
    "for word, count in final_word_count.items():\n",
    "    print(f\"{word}: {count}\")"
   ]
  },
  {
   "cell_type": "code",
   "execution_count": null,
   "id": "7e747461-1265-4917-a49a-7d82a2063b7c",
   "metadata": {},
   "outputs": [],
   "source": []
  }
 ],
 "metadata": {
  "kernelspec": {
   "display_name": "Python 3 (ipykernel)",
   "language": "python",
   "name": "python3"
  },
  "language_info": {
   "codemirror_mode": {
    "name": "ipython",
    "version": 3
   },
   "file_extension": ".py",
   "mimetype": "text/x-python",
   "name": "python",
   "nbconvert_exporter": "python",
   "pygments_lexer": "ipython3",
   "version": "3.12.7"
  }
 },
 "nbformat": 4,
 "nbformat_minor": 5
}
