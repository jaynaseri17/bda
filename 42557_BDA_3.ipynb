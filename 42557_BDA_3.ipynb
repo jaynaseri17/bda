{
 "cells": [
  {
   "cell_type": "markdown",
   "id": "1cf09337-3e20-4eb1-ade2-1bb6f86493ea",
   "metadata": {},
   "source": [
    "<h1><center><b>Computer Laboratory IV : Big Data Analytics Assignment - 3</b></center></h1>\n",
    "<h2 align=\"right\"><b>42557 - Ashish Ransing</b></h2> "
   ]
  },
  {
   "cell_type": "markdown",
   "id": "7a5e75df-2c74-4baf-a9e2-99cdb4cfaebf",
   "metadata": {},
   "source": [
    "## ------------------------------------------------------------------------------------------------------------"
   ]
  },
  {
   "cell_type": "markdown",
   "id": "1232b477-7c67-49cb-b499-a578a4c796ec",
   "metadata": {},
   "source": [
    "### **Problem Statement:**\n",
    "Implement Matrix Multiplication using Map-Reduce.\r"
   ]
  },
  {
   "cell_type": "markdown",
   "id": "8b007efb-8a87-4440-8c36-9f4f991079ab",
   "metadata": {},
   "source": [
    "## ------------------------------------------------------------------------------------------------------------"
   ]
  },
  {
   "cell_type": "markdown",
   "id": "dfdf75d2-0493-4ed7-af7d-4d5322f95172",
   "metadata": {},
   "source": [
    "#### **Mapper Function**"
   ]
  },
  {
   "cell_type": "code",
   "execution_count": 1,
   "id": "42a33b78-642a-4b68-9f96-157ea3fa1f08",
   "metadata": {},
   "outputs": [],
   "source": [
    "def mapper(matrix_A, matrix_B, m, n, p):\n",
    "    mapped_results = []\n",
    "\n",
    "    # Emit key-value pairs for matrix A\n",
    "    for i in range(m):\n",
    "        for j in range(n):\n",
    "            for k in range(p):\n",
    "                mapped_results.append(((i, k), (\"A\", j, matrix_A[i][j])))  # Fixed missing parenthesis\n",
    "\n",
    "    # Emit key-value pairs for matrix B\n",
    "    for j in range(n):\n",
    "        for k in range(p):\n",
    "            for i in range(m):\n",
    "                mapped_results.append(((i, k), (\"B\", j, matrix_B[j][k])))  # Fixed missing parenthesis\n",
    "\n",
    "    return mapped_results"
   ]
  },
  {
   "cell_type": "markdown",
   "id": "fe0bfce4-53c0-4f5e-9d34-b5de627e6ebf",
   "metadata": {},
   "source": [
    "## ------------------------------------------------------------------------------------------------------------"
   ]
  },
  {
   "cell_type": "markdown",
   "id": "2dcdf74c-d90b-4db4-b677-4c868f72a815",
   "metadata": {},
   "source": [
    "#### **Shuffling and Sorting Function**"
   ]
  },
  {
   "cell_type": "code",
   "execution_count": 2,
   "id": "16a37625-acbd-4a26-ba3c-9ecd2f82d7c6",
   "metadata": {},
   "outputs": [],
   "source": [
    "def shuffle_and_sort(mapped_results):\n",
    "    shuffled_data = {}\n",
    "\n",
    "    # Group values by key (i, k)\n",
    "    for key, value in mapped_results:\n",
    "        if key in shuffled_data:\n",
    "            shuffled_data[key].append(value)\n",
    "        else:\n",
    "            shuffled_data[key] = [value]\n",
    "\n",
    "    return shuffled_data"
   ]
  },
  {
   "cell_type": "markdown",
   "id": "49a02b86-e775-474a-a3ad-ed0399a11a24",
   "metadata": {},
   "source": [
    "## ------------------------------------------------------------------------------------------------------------"
   ]
  },
  {
   "cell_type": "markdown",
   "id": "e5db6f6d-4295-48e2-8f3d-98afb8907d6c",
   "metadata": {},
   "source": [
    "#### **Reducer function**"
   ]
  },
  {
   "cell_type": "code",
   "execution_count": 3,
   "id": "a619c7f0-f3de-41d8-8786-bd4194b43aca",
   "metadata": {},
   "outputs": [],
   "source": [
    "def reducer(shuffled_data, n):\n",
    "    result_matrix = {}\n",
    "\n",
    "    # Compute the dot product for each key (i, k)\n",
    "    for key, values in shuffled_data.items():\n",
    "        i, k = key\n",
    "        A = {}\n",
    "        B = {}\n",
    "\n",
    "        # Populate A and B dictionaries\n",
    "        for value in values:\n",
    "            matrix, j, val = value\n",
    "            if matrix == \"A\":\n",
    "                A[j] = val\n",
    "            elif matrix == \"B\":\n",
    "                B[j] = val\n",
    "\n",
    "        # Compute the dot product\n",
    "        result = 0\n",
    "        for j in range(n):\n",
    "            if j in A and j in B:\n",
    "                result += A[j] * B[j]\n",
    "\n",
    "        # Store the result in the result matrix\n",
    "        result_matrix[(i, k)] = result\n",
    "\n",
    "    return result_matrix"
   ]
  },
  {
   "cell_type": "markdown",
   "id": "60c8f10c-9cb5-497a-8871-487a68898dc2",
   "metadata": {},
   "source": [
    "## ------------------------------------------------------------------------------------------------------------"
   ]
  },
  {
   "cell_type": "markdown",
   "id": "7ff61f63-c9cd-4cce-9704-c1433f7c5179",
   "metadata": {},
   "source": [
    "#### **Sample Matrix**"
   ]
  },
  {
   "cell_type": "code",
   "execution_count": 4,
   "id": "995963ea-2540-4a6d-ac38-2978f3cb3b18",
   "metadata": {},
   "outputs": [],
   "source": [
    "if __name__ == \"__main__\":\n",
    "    matrix_A = [\n",
    "        [1, 2],\n",
    "        [3, 4]\n",
    "    ]\n",
    "    matrix_B = [\n",
    "        [5, 6],\n",
    "        [7, 8]\n",
    "    ]"
   ]
  },
  {
   "cell_type": "markdown",
   "id": "b0c12619-c92b-4740-8c62-98701ca607fb",
   "metadata": {},
   "source": [
    "## ------------------------------------------------------------------------------------------------------------"
   ]
  },
  {
   "cell_type": "markdown",
   "id": "a266abf2-2f14-476a-86ce-f4008f5b7190",
   "metadata": {},
   "source": [
    "#### **Step 1: Define Dimensions**"
   ]
  },
  {
   "cell_type": "code",
   "execution_count": 5,
   "id": "74c91595-cb21-4483-acb9-6e0e481fb586",
   "metadata": {},
   "outputs": [],
   "source": [
    "    m = len(matrix_A)  # Rows in A\n",
    "    n = len(matrix_A[0])  # Columns in A and rows in B\n",
    "    p = len(matrix_B[0])  # Columns in B"
   ]
  },
  {
   "cell_type": "markdown",
   "id": "9f3ac33e-ce87-4764-b9cd-458e4d8e5017",
   "metadata": {},
   "source": [
    "## ------------------------------------------------------------------------------------------------------------"
   ]
  },
  {
   "cell_type": "markdown",
   "id": "a6d26b9a-923d-428c-b402-af63d17193ef",
   "metadata": {},
   "source": [
    "#### **Step 2: Mapping Phase**"
   ]
  },
  {
   "cell_type": "code",
   "execution_count": 6,
   "id": "229f5744-b0e9-43fe-9c73-1de5682d2c05",
   "metadata": {},
   "outputs": [],
   "source": [
    "    mapped_results = mapper(matrix_A, matrix_B, m, n, p)"
   ]
  },
  {
   "cell_type": "markdown",
   "id": "a218e1ab-8286-46a4-b139-608c2172f20b",
   "metadata": {},
   "source": [
    "## ------------------------------------------------------------------------------------------------------------"
   ]
  },
  {
   "cell_type": "markdown",
   "id": "46404ba8-0ca4-47ad-aa85-d12ec5e6ee5d",
   "metadata": {},
   "source": [
    "#### **Step 3: Shuffling and Sorting**"
   ]
  },
  {
   "cell_type": "code",
   "execution_count": 7,
   "id": "42155dc8-e6c7-4ba1-9a4a-88280b771576",
   "metadata": {},
   "outputs": [],
   "source": [
    "    shuffled_data = shuffle_and_sort(mapped_results)"
   ]
  },
  {
   "cell_type": "markdown",
   "id": "874c7285-44a5-4b4d-8020-e2c0ba3ba79a",
   "metadata": {},
   "source": [
    "## ------------------------------------------------------------------------------------------------------------"
   ]
  },
  {
   "cell_type": "markdown",
   "id": "a0fd71b3-e49e-4359-932d-bfb3477dd935",
   "metadata": {},
   "source": [
    "#### **Step 4: Reduce Phase**"
   ]
  },
  {
   "cell_type": "code",
   "execution_count": 8,
   "id": "a589c6fe-599b-468f-ba87-ab9d65d8aa7c",
   "metadata": {},
   "outputs": [],
   "source": [
    "    result_matrix = reducer(shuffled_data, n)"
   ]
  },
  {
   "cell_type": "markdown",
   "id": "07a11b04-11d9-4c7f-9b32-be2c36734720",
   "metadata": {},
   "source": [
    "## ------------------------------------------------------------------------------------------------------------"
   ]
  },
  {
   "cell_type": "markdown",
   "id": "735908b8-5074-4d27-b046-23b6ce55fdcd",
   "metadata": {},
   "source": [
    "#### **Step 5: Output the result**"
   ]
  },
  {
   "cell_type": "code",
   "execution_count": 9,
   "id": "b627d449-c89a-4e6f-b09c-80384b8fd123",
   "metadata": {},
   "outputs": [
    {
     "name": "stdout",
     "output_type": "stream",
     "text": [
      "Resultant Matrix C:\n",
      "C[0][0] = 19\n",
      "C[0][1] = 22\n",
      "C[1][0] = 43\n",
      "C[1][1] = 50\n"
     ]
    }
   ],
   "source": [
    "    print(\"Resultant Matrix C:\")\n",
    "    for (i, k), value in result_matrix.items():\n",
    "        print(f\"C[{i}][{k}] = {value}\")"
   ]
  },
  {
   "cell_type": "markdown",
   "id": "5a2556dc-4c61-4851-93e4-d842fc35f8ef",
   "metadata": {},
   "source": [
    "## ------------------------------------------------------------------------------------------------------------"
   ]
  }
 ],
 "metadata": {
  "kernelspec": {
   "display_name": "Python 3 (ipykernel)",
   "language": "python",
   "name": "python3"
  },
  "language_info": {
   "codemirror_mode": {
    "name": "ipython",
    "version": 3
   },
   "file_extension": ".py",
   "mimetype": "text/x-python",
   "name": "python",
   "nbconvert_exporter": "python",
   "pygments_lexer": "ipython3",
   "version": "3.11.7"
  }
 },
 "nbformat": 4,
 "nbformat_minor": 5
}
